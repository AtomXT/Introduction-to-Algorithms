{
 "cells": [
  {
   "cell_type": "markdown",
   "metadata": {},
   "source": [
    "input: a = [a0, a1, ..., an] (coefficient of polynomial), x(real number)\n",
    "output: P (the result of x in polynomial)"
   ]
  },
  {
   "cell_type": "code",
   "execution_count": 14,
   "metadata": {},
   "outputs": [],
   "source": [
    "def Polynomial_Evaluation(a, x):\n",
    "    P = a[-1]\n",
    "    for i in range(1, len(a)):\n",
    "        P = x*P + a[-1-i]\n",
    "    return P"
   ]
  },
  {
   "cell_type": "code",
   "execution_count": 16,
   "metadata": {
    "scrolled": false
   },
   "outputs": [
    {
     "name": "stdout",
     "output_type": "stream",
     "text": [
      "P is 2 + x\n",
      "The result of P(1) is:  3\n"
     ]
    }
   ],
   "source": [
    "a = [2, 1]\n",
    "print('P is 2 + x')\n",
    "print('The result of P(1) is: ', Polynomial_Evaluation(a,1))\n"
   ]
  }
 ],
 "metadata": {
  "kernelspec": {
   "display_name": "Python 3",
   "language": "python",
   "name": "python3"
  },
  "language_info": {
   "codemirror_mode": {
    "name": "ipython",
    "version": 3
   },
   "file_extension": ".py",
   "mimetype": "text/x-python",
   "name": "python",
   "nbconvert_exporter": "python",
   "pygments_lexer": "ipython3",
   "version": "3.6.5"
  }
 },
 "nbformat": 4,
 "nbformat_minor": 2
}

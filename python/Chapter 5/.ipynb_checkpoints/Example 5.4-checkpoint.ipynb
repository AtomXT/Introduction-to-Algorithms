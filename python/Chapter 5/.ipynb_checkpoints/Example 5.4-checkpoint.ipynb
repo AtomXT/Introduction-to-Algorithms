{
 "cells": [
  {
   "cell_type": "markdown",
   "metadata": {},
   "source": [
    "input: f\n",
    "output: S "
   ]
  },
  {
   "cell_type": "code",
   "execution_count": 22,
   "metadata": {},
   "outputs": [],
   "source": [
    "import queue\n",
    "def Algorithm_Mapping(f,n):\n",
    "    S = [i for i in range(n)]\n",
    "    c = [0 for i in range(n)]\n",
    "    for i in range(n):\n",
    "        c[f[i]] += 1\n",
    "    Queue = queue.Queue()\n",
    "    for j in range(n):\n",
    "        if c[j] == 0:\n",
    "            Queue.put(j)\n",
    "    while not Queue.empty():\n",
    "        i = Queue.get()\n",
    "        S.remove(i)\n",
    "        c[f[i]] -= 1\n",
    "        if c[f[i]] == 0: Queue.put(f[i])      \n",
    "    return S"
   ]
  },
  {
   "cell_type": "code",
   "execution_count": 23,
   "metadata": {},
   "outputs": [
    {
     "name": "stdout",
     "output_type": "stream",
     "text": [
      "[1, 4, 5, 6]\n"
     ]
    }
   ],
   "source": [
    "'''\n",
    "Mapping:\n",
    "1 -> 3\n",
    "2 -> 1\n",
    "3 -> 1\n",
    "4 -> 5\n",
    "5 -> 5\n",
    "6 -> 4\n",
    "7 -> 6\n",
    "'''\n",
    "f = [3, 1, 1, 5, 5, 4, 6]\n",
    "n = 7\n",
    "print(Algorithm_Mapping(f,n))"
   ]
  }
 ],
 "metadata": {
  "kernelspec": {
   "display_name": "Python 3",
   "language": "python",
   "name": "python3"
  },
  "language_info": {
   "codemirror_mode": {
    "name": "ipython",
    "version": 3
   },
   "file_extension": ".py",
   "mimetype": "text/x-python",
   "name": "python",
   "nbconvert_exporter": "python",
   "pygments_lexer": "ipython3",
   "version": "3.6.5"
  }
 },
 "nbformat": 4,
 "nbformat_minor": 2
}

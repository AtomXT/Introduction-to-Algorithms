{
 "cells": [
  {
   "cell_type": "markdown",
   "metadata": {},
   "source": [
    "input: Know(bool)\n",
    "output: celebrity"
   ]
  },
  {
   "cell_type": "code",
   "execution_count": 1,
   "metadata": {},
   "outputs": [
    {
     "ename": "SyntaxError",
     "evalue": "invalid syntax (<ipython-input-1-af328bff2f87>, line 24)",
     "output_type": "error",
     "traceback": [
      "\u001b[1;36m  File \u001b[1;32m\"<ipython-input-1-af328bff2f87>\"\u001b[1;36m, line \u001b[1;32m24\u001b[0m\n\u001b[1;33m    else celebrity = 0\u001b[0m\n\u001b[1;37m                 ^\u001b[0m\n\u001b[1;31mSyntaxError\u001b[0m\u001b[1;31m:\u001b[0m invalid syntax\n"
     ]
    }
   ],
   "source": [
    "def Celebrity(Know):\n",
    "    i = 1\n",
    "    j = 2\n",
    "    nexts = 3\n",
    "    while nexts <= n + 1:\n",
    "        if Know[i,j]: i = nexts\n",
    "        else: j = nexts\n",
    "        nexts += 1\n",
    "    if i == n + 1:\n",
    "        candidate = j\n",
    "    else:\n",
    "        candidate = i\n",
    "    # check whether people is celebrity\n",
    "    wrong = false\n",
    "    k = 1\n",
    "    Know[candidate, candidate] = false\n",
    "    while not wrong and k <= n:\n",
    "        if Know[candidate, k]:\n",
    "            wrong = true\n",
    "        if not Know[candidate, k]:\n",
    "            if candidate != k: wrong = true\n",
    "        k += 1\n",
    "    if not wrong: celebrity = candidate\n",
    "    else: celebrity = 0\n",
    "    return celebrity\n",
    "            "
   ]
  },
  {
   "cell_type": "code",
   "execution_count": null,
   "metadata": {},
   "outputs": [],
   "source": []
  }
 ],
 "metadata": {
  "kernelspec": {
   "display_name": "Python 3",
   "language": "python",
   "name": "python3"
  },
  "language_info": {
   "codemirror_mode": {
    "name": "ipython",
    "version": 3
   },
   "file_extension": ".py",
   "mimetype": "text/x-python",
   "name": "python",
   "nbconvert_exporter": "python",
   "pygments_lexer": "ipython3",
   "version": "3.6.5"
  }
 },
 "nbformat": 4,
 "nbformat_minor": 2
}

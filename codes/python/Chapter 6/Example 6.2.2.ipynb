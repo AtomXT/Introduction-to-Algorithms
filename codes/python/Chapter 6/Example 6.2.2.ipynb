{
 "cells": [
  {
   "cell_type": "markdown",
   "metadata": {},
   "source": [
    "### Question: $a_i = i$\n",
    "prerequiste: this sequence is increasing, but you don't know the starting point and the ending point of this sequence, like a ring, thus the input sequence must satisfy this function"
   ]
  },
  {
   "cell_type": "code",
   "execution_count": 12,
   "metadata": {},
   "outputs": [],
   "source": [
    "def Cyclic_Binary_Search(X):\n",
    "    n = len(X)\n",
    "    return cyclic_find(0, n-1)\n",
    "def cyclic_find(left, right):\n",
    "    if left == right:\n",
    "        return left\n",
    "    else:\n",
    "        middle = int((left+right)/2)\n",
    "        if X[middle] < X[right]:\n",
    "            return cyclic_find(left, middle)\n",
    "        else:\n",
    "            return cyclic_find(middle+1, right)\n"
   ]
  },
  {
   "cell_type": "code",
   "execution_count": 13,
   "metadata": {},
   "outputs": [
    {
     "name": "stdout",
     "output_type": "stream",
     "text": [
      "2\n"
     ]
    }
   ],
   "source": [
    "X = [0,4,3]\n",
    "print(Cyclic_Binary_Search(X)) # X[2] = 3, remember python starts from 0"
   ]
  },
  {
   "cell_type": "code",
   "execution_count": 18,
   "metadata": {},
   "outputs": [
    {
     "name": "stdout",
     "output_type": "stream",
     "text": [
      "0\n"
     ]
    }
   ],
   "source": [
    "X = [10,140,1000]\n",
    "print(Cyclic_Binary_Search(X))\n",
    "# if there is no answer, this algorithm would return 0"
   ]
  },
  {
   "cell_type": "code",
   "execution_count": 20,
   "metadata": {},
   "outputs": [
    {
     "name": "stdout",
     "output_type": "stream",
     "text": [
      "1\n"
     ]
    }
   ],
   "source": [
    "X = [5,1,3]\n",
    "print(Cyclic_Binary_Search(X)) # X[1] = 2, remember python starts from 0"
   ]
  },
  {
   "cell_type": "code",
   "execution_count": null,
   "metadata": {},
   "outputs": [],
   "source": []
  }
 ],
 "metadata": {
  "kernelspec": {
   "display_name": "Python 3",
   "language": "python",
   "name": "python3"
  },
  "language_info": {
   "codemirror_mode": {
    "name": "ipython",
    "version": 3
   },
   "file_extension": ".py",
   "mimetype": "text/x-python",
   "name": "python",
   "nbconvert_exporter": "python",
   "pygments_lexer": "ipython3",
   "version": "3.6.5"
  }
 },
 "nbformat": 4,
 "nbformat_minor": 2
}

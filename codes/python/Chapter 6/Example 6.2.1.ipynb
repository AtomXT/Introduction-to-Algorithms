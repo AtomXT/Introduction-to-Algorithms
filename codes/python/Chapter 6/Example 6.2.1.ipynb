{
 "cells": [
  {
   "cell_type": "code",
   "execution_count": 24,
   "metadata": {},
   "outputs": [],
   "source": [
    "def Binary_Search(x,n,z):\n",
    "    if z not in x:\n",
    "        return 0\n",
    "    position = Find(z,0,n)\n",
    "    return position+1\n",
    "def Find(z,left,right):\n",
    "    if left == right:\n",
    "        if x[left] == z: \n",
    "            return left\n",
    "        else:\n",
    "            return 0\n",
    "    else:\n",
    "        middle = int((left+right)/2)\n",
    "        if z < x[middle]:\n",
    "            return Find(z, left, middle-1)\n",
    "        else:\n",
    "            return Find(z, middle, right)\n",
    "        "
   ]
  },
  {
   "cell_type": "code",
   "execution_count": 25,
   "metadata": {},
   "outputs": [
    {
     "name": "stdout",
     "output_type": "stream",
     "text": [
      "3\n"
     ]
    }
   ],
   "source": [
    "x = [1,2,3,4,5]\n",
    "n = len(x)\n",
    "print(Binary_Search(x,n,3)) # 因为python的数组从0开始"
   ]
  },
  {
   "cell_type": "code",
   "execution_count": 26,
   "metadata": {},
   "outputs": [
    {
     "name": "stdout",
     "output_type": "stream",
     "text": [
      "0\n"
     ]
    }
   ],
   "source": [
    "x = [1,2,3,4,5]\n",
    "n = len(x)\n",
    "print(Binary_Search(x,n,6)) # 0表示不存在"
   ]
  },
  {
   "cell_type": "code",
   "execution_count": null,
   "metadata": {},
   "outputs": [],
   "source": []
  }
 ],
 "metadata": {
  "kernelspec": {
   "display_name": "Python 3",
   "language": "python",
   "name": "python3"
  },
  "language_info": {
   "codemirror_mode": {
    "name": "ipython",
    "version": 3
   },
   "file_extension": ".py",
   "mimetype": "text/x-python",
   "name": "python",
   "nbconvert_exporter": "python",
   "pygments_lexer": "ipython3",
   "version": "3.6.5"
  }
 },
 "nbformat": 4,
 "nbformat_minor": 2
}
